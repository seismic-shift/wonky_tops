{
 "cells": [
  {
   "cell_type": "markdown",
   "metadata": {},
   "source": [
    "# WonkyTops\n",
    "### Tom Wade, Floris Strijbos, Marina Ten"
   ]
  },
  {
   "cell_type": "code",
   "execution_count": 1,
   "metadata": {},
   "outputs": [],
   "source": [
    "import pandas as pd\n",
    "import numpy as np\n",
    "import ipyvolume as ipv\n",
    "import bruges\n",
    "import os\n",
    "import math\n",
    "from scipy.interpolate import griddata\n",
    "import matplotlib.pyplot as plt\n",
    "%matplotlib inline"
   ]
  },
  {
   "cell_type": "code",
   "execution_count": 2,
   "metadata": {},
   "outputs": [
    {
     "name": "stdout",
     "output_type": "stream",
     "text": [
      "C:\\Users\\Thomas.Wade\\OneDrive - Shell\\python\\hackathon\\wonky_tops\n"
     ]
    }
   ],
   "source": [
    "cwd = os.getcwd()\n",
    "print(cwd)"
   ]
  },
  {
   "cell_type": "code",
   "execution_count": 3,
   "metadata": {},
   "outputs": [],
   "source": [
    "#Set the location of the input spreadsheet.\n",
    "xlIn = \"sample_data/11_2.xlsx\"\n",
    "xlPath = os.path.join(cwd, xlIn)"
   ]
  },
  {
   "cell_type": "code",
   "execution_count": 4,
   "metadata": {},
   "outputs": [],
   "source": [
    "#Read Input tops data from excel file and get the headers\n",
    "df = pd.read_excel(xlPath)"
   ]
  },
  {
   "cell_type": "code",
   "execution_count": 5,
   "metadata": {},
   "outputs": [
    {
     "data": {
      "text/plain": [
       "array(['AS 11.2 (Sand)', 'AS11.2', 'T AS 11.2', 'T AS 11.2 DD',\n",
       "       'T AS.11.2', 'T AS11.2', 'T AS11.2_1', 'T AS11.2a', 'T AS11.2Sh',\n",
       "       'T AS11.2Sh_1'], dtype=object)"
      ]
     },
     "execution_count": 5,
     "metadata": {},
     "output_type": "execute_result"
    }
   ],
   "source": [
    "#Get a 'list' of all the unique tops found in the input dataset\n",
    "pd.unique(df.Top)"
   ]
  },
  {
   "cell_type": "code",
   "execution_count": 6,
   "metadata": {},
   "outputs": [],
   "source": [
    "#Create List of the Tops to be included:\n",
    "tops_list = ['AS11.2','T AS11.2']"
   ]
  },
  {
   "cell_type": "code",
   "execution_count": 7,
   "metadata": {},
   "outputs": [],
   "source": [
    "def extract_xyz(data, tops):\n",
    "    \"\"\"\n",
    "    Takes the raw dataframe and a list of desired tops, and returns the X, Y and Z\n",
    "    values as individual arrays (filtering on the tops in the tops list)\n",
    "    \"\"\"\n",
    "    xyz=df.loc[df.Top.isin(tops_list), ['Easting','Northing','Depth_tvdss']].values\n",
    "    return xyz[:,0] , xyz[:,1] , xyz[:,2]"
   ]
  },
  {
   "cell_type": "code",
   "execution_count": 8,
   "metadata": {},
   "outputs": [],
   "source": [
    "x, y, z = extract_xyz(df, tops_list)"
   ]
  },
  {
   "cell_type": "code",
   "execution_count": 9,
   "metadata": {},
   "outputs": [],
   "source": [
    "def data_extent(xIn , yIn, zIn):\n",
    "    \"\"\"\n",
    "    Given the X, Y and Z data arrays, this function returns the data extent as a list in the form:\n",
    "    [0] = xmin\n",
    "    [1] = xmax\n",
    "    [2] = ymin\n",
    "    [3] = ymax\n",
    "    [4] = zmin\n",
    "    [z] = zmax\n",
    "    \"\"\"\n",
    "    extent = []\n",
    "    extent.append(x.min()) ; extent.append(x.max()) ; extent.append(y.min()) ; extent.append(y.max())\n",
    "    extent.append(z.min()) ; extent.append(z.max())\n",
    "    return extent"
   ]
  },
  {
   "cell_type": "code",
   "execution_count": 10,
   "metadata": {},
   "outputs": [],
   "source": [
    "dExtent = data_extent(x,y,z)"
   ]
  },
  {
   "cell_type": "markdown",
   "metadata": {},
   "source": [
    "### Initial processing to mathematically remove obvious outliers"
   ]
  },
  {
   "cell_type": "code",
   "execution_count": 11,
   "metadata": {
    "scrolled": false
   },
   "outputs": [],
   "source": [
    "def outliers_iqr(n):\n",
    "    \"\"\"\n",
    "    The interquartile range (IQR), is a measure of statistical dispersion, being equal to the difference \n",
    "    between 75th and 25th percentiles, or between upper and lower quartiles, IQR = Q3 − Q1.\n",
    "    It is a measure of the dispersion similar to standard deviation or variance, but is much more robust \n",
    "    against outliers.\n",
    "    \"\"\"\n",
    "    quartile_1, quartile_3 = np.percentile(n, [25, 75])\n",
    "    iqr = quartile_3 - quartile_1\n",
    "    lower_bound = quartile_1 - (iqr * 1.5)\n",
    "    upper_bound = quartile_3 + (iqr * 1.5)\n",
    "    return np.where((n > upper_bound) | (n < lower_bound))"
   ]
  },
  {
   "cell_type": "code",
   "execution_count": 12,
   "metadata": {},
   "outputs": [],
   "source": [
    "def apply_iqr(xIn, yIn, zIn):\n",
    "    \"\"\"\n",
    "    Apply the interquartile range filtering given X,Y and Z arrays of the data\n",
    "    Returns a 2d numpy array of filtered x, y and z\n",
    "    \"\"\"\n",
    "    iqr_test = outliers_iqr(zIn)[0].tolist()\n",
    "    x_smooth, y_smooth, z_smooth = np.delete(xIn,iqr_test), np.delete(yIn,iqr_test), np.delete(zIn,iqr_test)\n",
    "    return np.column_stack((x_smooth, y_smooth, z_smooth))"
   ]
  },
  {
   "cell_type": "code",
   "execution_count": 13,
   "metadata": {},
   "outputs": [],
   "source": [
    "#Create filtered data using IQR data set. Pass function X,Y & Z\n",
    "iqr_data = apply_iqr(x,y,z)"
   ]
  },
  {
   "cell_type": "code",
   "execution_count": 14,
   "metadata": {},
   "outputs": [],
   "source": [
    "def iplot(data, extent):\n",
    "    \"\"\"\n",
    "    This Creates the interactive ipython plot, given an array of data.\n",
    "    This can then be used to interactively edit the dataset. Note it returns an ipv scatter object\n",
    "    which contains the filter 'selection', which can then be applied\n",
    "    \"\"\"\n",
    "    \n",
    "    ipv.figure()\n",
    "    s = ipv.scatter(data[:,0], data[:,1], data[:,2], marker='sphere', size=3)\n",
    "    ipv.xlim(extent[0], extent[1])\n",
    "    ipv.ylim(extent[2] ,extent[3])\n",
    "    ipv.zlim(extent[4],extent[5])\n",
    "    ipv.animation_control(s)# shows controls for animation controls\n",
    "    ipv.selector_default()\n",
    "    ipv.show()\n",
    "    return s"
   ]
  },
  {
   "cell_type": "code",
   "execution_count": 15,
   "metadata": {},
   "outputs": [
    {
     "data": {
      "application/vnd.jupyter.widget-view+json": {
       "model_id": "7650ce1d4d4b454b809d0a168a3c2ca0",
       "version_major": 2,
       "version_minor": 0
      },
      "text/plain": [
       "Output()"
      ]
     },
     "metadata": {},
     "output_type": "display_data"
    },
    {
     "data": {
      "application/vnd.jupyter.widget-view+json": {
       "model_id": "6b12509064d1425aa319aeaccc8ee175",
       "version_major": 2,
       "version_minor": 0
      },
      "text/plain": [
       "VBox(children=(Figure(animation=200.0, camera=PerspectiveCamera(fov=46.0, position=(0.0, 0.0, 2.0), quaternion…"
      ]
     },
     "metadata": {},
     "output_type": "display_data"
    }
   ],
   "source": [
    "#Create the interactive plot, and also return the ipyvol scatter object\n",
    "scat = iplot(iqr_data, dExtent)"
   ]
  },
  {
   "cell_type": "markdown",
   "metadata": {},
   "source": [
    "### Iterative interactive editing"
   ]
  },
  {
   "cell_type": "code",
   "execution_count": 16,
   "metadata": {},
   "outputs": [],
   "source": [
    "def delete_selected(s):\n",
    "    \"\"\"\n",
    "    This function takes a scatter object returned from the function iplot, and then\n",
    "    returns a filtered numpy arraty of xyz which can then be reploted\n",
    "    \"\"\"\n",
    "    xFilt = np.delete(s.x, s.selected)\n",
    "    yFilt = np.delete(s.y, s.selected)\n",
    "    zFilt = np.delete(s.z, s.selected)\n",
    "    return np.column_stack((xFilt, yFilt, zFilt))"
   ]
  },
  {
   "cell_type": "code",
   "execution_count": 17,
   "metadata": {},
   "outputs": [],
   "source": [
    "#Filter the dataset on the selected points, and reassign to variable\n",
    "filtered = delete_selected(scat)"
   ]
  },
  {
   "cell_type": "code",
   "execution_count": 18,
   "metadata": {},
   "outputs": [
    {
     "data": {
      "application/vnd.jupyter.widget-view+json": {
       "model_id": "4b97c2247fa641e192c856379cd3feed",
       "version_major": 2,
       "version_minor": 0
      },
      "text/plain": [
       "Output()"
      ]
     },
     "metadata": {},
     "output_type": "display_data"
    },
    {
     "data": {
      "application/vnd.jupyter.widget-view+json": {
       "model_id": "af3d8c67b5bc4fc2b710216228c491f1",
       "version_major": 2,
       "version_minor": 0
      },
      "text/plain": [
       "VBox(children=(Figure(animation=200.0, camera=PerspectiveCamera(fov=46.0, position=(0.0, 0.0, 2.0), quaternion…"
      ]
     },
     "metadata": {},
     "output_type": "display_data"
    }
   ],
   "source": [
    "#Redraw the plot with the filtered data\n",
    "scat = iplot(filtered, dExtent)"
   ]
  },
  {
   "cell_type": "code",
   "execution_count": 19,
   "metadata": {},
   "outputs": [],
   "source": [
    "#Refilter the data on any new selection made in the ipyvolume plot\n",
    "filtered = delete_selected(scat)"
   ]
  },
  {
   "cell_type": "code",
   "execution_count": 20,
   "metadata": {},
   "outputs": [
    {
     "data": {
      "application/vnd.jupyter.widget-view+json": {
       "model_id": "67c3ba8205164ec9b4b5c623bc733787",
       "version_major": 2,
       "version_minor": 0
      },
      "text/plain": [
       "Output()"
      ]
     },
     "metadata": {},
     "output_type": "display_data"
    },
    {
     "data": {
      "application/vnd.jupyter.widget-view+json": {
       "model_id": "2044d3ab91e34cbcae8b5052b88df01f",
       "version_major": 2,
       "version_minor": 0
      },
      "text/plain": [
       "VBox(children=(Figure(animation=200.0, camera=PerspectiveCamera(fov=46.0, position=(0.0, 0.0, 2.0), quaternion…"
      ]
     },
     "metadata": {},
     "output_type": "display_data"
    },
    {
     "data": {
      "application/vnd.jupyter.widget-view+json": {
       "model_id": "a99d07319b484f6b913247a650bdf3a6",
       "version_major": 2,
       "version_minor": 0
      },
      "text/plain": [
       "Scatter(color_selected=array('white', dtype='<U5'), geo='sphere', line_material=ShaderMaterial(), material=Sha…"
      ]
     },
     "metadata": {},
     "output_type": "display_data"
    }
   ],
   "source": [
    "#Replot\n",
    "iplot(filtered, dExtent)"
   ]
  },
  {
   "cell_type": "markdown",
   "metadata": {},
   "source": [
    "### Note, you can keep interactively editing the data using the iplot and delete selected functions\n",
    "An item to be developed is to keep all interactive editing in one plot, without having to keep recalling/redrawinh it."
   ]
  },
  {
   "cell_type": "markdown",
   "metadata": {},
   "source": [
    "### Grid Tops via minimum curvature\n",
    "##### Note this was our first gridding approach. However, a depopulated appoach is going to be preferred..."
   ]
  },
  {
   "cell_type": "code",
   "execution_count": 21,
   "metadata": {},
   "outputs": [],
   "source": [
    "def create_grid_outline(raw_extent, spacing):\n",
    "    \"\"\"\n",
    "    Takes the extent of the input data (x,y,z) as a list, and the desired spacing of the output grid\n",
    "    Returns the X and Y arrays of the grid, in a regularly spaced interval\n",
    "    \"\"\"\n",
    "    #Determine rounded corner points to define the grid\n",
    "    extent_round = []\n",
    "    for i in range(len(raw_extent)):\n",
    "        if i % 2 == 0:\n",
    "            extent_round.append(int(math.floor(raw_extent[i] / float(spacing))) * spacing)\n",
    "            continue\n",
    "        extent_round.append(int(math.ceil(raw_extent[i] / float(spacing))) * spacing)\n",
    "    nX_points = int((extent_round[1] - extent_round[0]) / spacing)\n",
    "    nY_points = int((extent_round[3] - extent_round[2]) / spacing)\n",
    "    grid_x, grid_y = np.mgrid[extent_round[0]:extent_round[1]:complex(nX_points), extent_round[2]:extent_round[3]:complex(nY_points)]\n",
    "    return grid_x, grid_y, extent_round\n",
    "    \n",
    "    "
   ]
  },
  {
   "cell_type": "code",
   "execution_count": 22,
   "metadata": {},
   "outputs": [],
   "source": [
    "#Create regularly spaced grid axis\n",
    "gridX, gridY, grid_extent = create_grid_outline(dExtent, 100)"
   ]
  },
  {
   "cell_type": "code",
   "execution_count": 23,
   "metadata": {},
   "outputs": [],
   "source": [
    "def point_coordinates(data):\n",
    "    \"\"\"\n",
    "    Returns the coordinates of an input XYZ array as an array of coordinate pairs in a list\n",
    "    \"\"\"\n",
    "    return np.array(list(zip(data[:,0], data[:,1])))\n",
    "    "
   ]
  },
  {
   "cell_type": "code",
   "execution_count": 24,
   "metadata": {},
   "outputs": [],
   "source": [
    "#Set coordinate points and z values ready to be interpolated\n",
    "points = point_coordinates(filtered)\n",
    "values = filtered[:,2]"
   ]
  },
  {
   "cell_type": "code",
   "execution_count": 25,
   "metadata": {},
   "outputs": [],
   "source": [
    "def grid_surface(points, values, xgrid, ygrid, intMeth):\n",
    "    \"\"\"\n",
    "    Used Scipy to interpolate points data in to a predefined grid.\n",
    "    Required a set of coordinate points, a 1d array of depths, a\n",
    "    x-axis and y-axis defining the grid to interpolate in to.\n",
    "    Utilised Scipy's 'griddate' interpolator. Different methods can be passed:\n",
    "    -cubic\n",
    "    -linear\n",
    "    -nearest    \n",
    "    \"\"\"\n",
    "    return griddata(points, values, (xgrid, ygrid), method=intMeth)"
   ]
  },
  {
   "cell_type": "code",
   "execution_count": 26,
   "metadata": {},
   "outputs": [],
   "source": [
    "#Create a grid from input data in to regular grid\n",
    "grid = grid_surface(points, values, gridX, gridY, intMeth='cubic')"
   ]
  },
  {
   "cell_type": "code",
   "execution_count": 78,
   "metadata": {},
   "outputs": [],
   "source": [
    "def plot_surface(gridData, extent, topsData, **kwargs):\n",
    "    \"\"\"\n",
    "    Creates a plot of the gridded up well tops, plots the original well tops points\n",
    "    Takes an optional keyword argument 'res' if residuals are to be plotted.\n",
    "    This takes residuals as an X,Y,Z(residal) array\n",
    "    \"\"\"\n",
    "    plt.figure(figsize=(20,10))\n",
    "    plt.imshow(gridData.T, origin='lower', extent=extent[:4], cmap='jet')\n",
    "    plt.colorbar()  \n",
    "    \n",
    "    #Plot the cleaned up well tops as a scatter over the top of the grid\n",
    "    topX, topY = topsData[:,0] , topsData[:,1]\n",
    "    plt.scatter(topX, topY, s=20, c='k')\n",
    "    \n",
    "    #Plot residuals if calculated and in kwargs\n",
    "    if 'res' in kwargs:\n",
    "        xRes = kwargs.get(\"res\")[:,0]\n",
    "        yRes = kwargs.get(\"res\")[:,1]\n",
    "        residuals = kwargs.get(\"res\")[:,2]\n",
    "        res_list = residuals.tolist()\n",
    "        res_txt = [str(round(i, 2)) for i in res_list]\n",
    "\n",
    "        for i, txt in enumerate(res_txt):\n",
    "            plt.annotate(txt, (xRes[i], yRes[i]) , size=10)\n",
    "    "
   ]
  },
  {
   "cell_type": "markdown",
   "metadata": {},
   "source": [
    "### Residuals Extraction"
   ]
  },
  {
   "cell_type": "code",
   "execution_count": 73,
   "metadata": {},
   "outputs": [],
   "source": [
    "def transform_coordinates(gExt, gridIn, tops):\n",
    "    \"\"\"\n",
    "    Extract Residuals given a grid, its extent and the well tops\n",
    "    Return X,Y Residual as numpy array\n",
    "    \"\"\"\n",
    "    corners_xy = np.array([[gExt[0], gExt[2]],\n",
    "                       [gExt[0], gExt[3]],\n",
    "                       [gExt[1], gExt[2]]])\n",
    "    \n",
    "    corners_ix = np.array([[0,  0],\n",
    "                       [0, gridIn.shape[1]],\n",
    "                       [gridIn.shape[0],0]])\n",
    "    \n",
    "    transform = bruges.transform.CoordTransform(corners_ix, corners_xy)\n",
    "    \n",
    "    x = tops[:,0].tolist()\n",
    "    y = tops[:,1].tolist()\n",
    "    xyMerge = list(zip(x,y))\n",
    "    \n",
    "    coordinatesOut = [transform.reverse([i[0], i[1]]) for i in xyMerge]\n",
    "    \n",
    "    xcors = np.array([item[0] for item in coordinatesOut])\n",
    "    ycors = np.array([item[1] for item in coordinatesOut])\n",
    "    \n",
    "    zGrid = gridIn[(xcors, ycors)]\n",
    "    z = tops[:,2]\n",
    "    \n",
    "    residuals = z - zGrid\n",
    "    \n",
    "    return np.column_stack((tops[:,0], tops[:,1], residuals))"
   ]
  },
  {
   "cell_type": "code",
   "execution_count": 76,
   "metadata": {},
   "outputs": [],
   "source": [
    "#Get the residuals data. The difference between well top and gridded surface\n",
    "residuals = transform_coordinates(grid_extent, grid, filtered)"
   ]
  },
  {
   "cell_type": "code",
   "execution_count": 77,
   "metadata": {},
   "outputs": [
    {
     "data": {
      "image/png": "[encoded data removed]",
      "text/plain": [
       "<Figure size 1440x720 with 2 Axes>"
      ]
     },
     "metadata": {
      "needs_background": "light"
     },
     "output_type": "display_data"
    }
   ],
   "source": [
    "plot_surface(grid, dExtent, filtered, res=residuals)"
   ]
  },
  {
   "cell_type": "markdown",
   "metadata": {},
   "source": [
    "### Residual Histogram"
   ]
  },
  {
   "cell_type": "code",
   "execution_count": 89,
   "metadata": {},
   "outputs": [],
   "source": [
    "def plot_hist(data):\n",
    "    \"\"\"\n",
    "    \"\"\"\n",
    "    values = data[:,2]\n",
    "    values = values[~np.isnan(values)]\n",
    "    rng = np.nanmin(values), np.nanmax(values)\n",
    "    n, bins, _ = plt.hist(values, bins='auto',  range=rng)"
   ]
  },
  {
   "cell_type": "code",
   "execution_count": 90,
   "metadata": {},
   "outputs": [
    {
     "data": {
      "image/png": "[encoded data removed]",
      "text/plain": [
       "<Figure size 432x288 with 1 Axes>"
      ]
     },
     "metadata": {
      "needs_background": "light"
     },
     "output_type": "display_data"
    }
   ],
   "source": [
    "plot_hist(residuals)"
   ]
  },
  {
   "cell_type": "code",
   "execution_count": null,
   "metadata": {
    "scrolled": true
   },
   "outputs": [],
   "source": [
    "rng = np.nanmin(res_list), np.nanmax(res_list)\n",
    "n, bins, _ = plt.hist(res_list, bins='auto',  range=rng)"
   ]
  },
  {
   "cell_type": "code",
   "execution_count": null,
   "metadata": {},
   "outputs": [],
   "source": [
    "bins = (bins[1:] + bins[:-1]) / 2"
   ]
  },
  {
   "cell_type": "code",
   "execution_count": null,
   "metadata": {},
   "outputs": [],
   "source": [
    "plt.bar(bins, n, width=0.5, color='g')"
   ]
  },
  {
   "cell_type": "markdown",
   "metadata": {},
   "source": [
    "### Regrid using data with outliers kicked out"
   ]
  },
  {
   "cell_type": "code",
   "execution_count": null,
   "metadata": {},
   "outputs": [],
   "source": [
    "#Filter the input data on the results of tghe first gridding\n",
    "condition1 = ( (res_df.residual > -5) & (res_df.residual < 5) )\n",
    "condition2 = res_df.residual.isna()\n",
    "\n",
    "filteredDf = res_df[condition1 | condition2]"
   ]
  },
  {
   "cell_type": "code",
   "execution_count": null,
   "metadata": {},
   "outputs": [],
   "source": [
    "#Pull data from the filtered pandas data frame into 1d arrays\n",
    "xFilt, yFilt , zFilt = filteredDf.x , filteredDf.y , filteredDf.z"
   ]
  },
  {
   "cell_type": "code",
   "execution_count": null,
   "metadata": {},
   "outputs": [],
   "source": [
    "#Create numpy arrays of point co-ordinates and then values from input data\n",
    "pointsFilt = np.array(list(zip(xFilt, yFilt)))\n",
    "valuesFilt = zFilt"
   ]
  },
  {
   "cell_type": "code",
   "execution_count": null,
   "metadata": {},
   "outputs": [],
   "source": [
    "#Perform interpolation of data in to the specified grid using scipy\n",
    "reGridded = griddata(pointsFilt, valuesFilt, (grid_x, grid_y), method='cubic')"
   ]
  },
  {
   "cell_type": "code",
   "execution_count": null,
   "metadata": {},
   "outputs": [],
   "source": [
    "#Determine array value limits for contour plotting\n",
    "contourInt = 5\n",
    "contourMin = round(int(np.nanmin(reGridded)), -1)\n",
    "contourMax = round(int(np.nanmax(reGridded)), -1)\n",
    "contours = np.arange(contourMin, contourMax, contourInt)"
   ]
  },
  {
   "cell_type": "code",
   "execution_count": null,
   "metadata": {},
   "outputs": [],
   "source": [
    "#Re-extract residuals\n",
    "newXcor, newYcor = get_top_coords(xFilt, yFilt)"
   ]
  },
  {
   "cell_type": "code",
   "execution_count": null,
   "metadata": {},
   "outputs": [],
   "source": [
    "#Extract the value of the grid at the well top locations\n",
    "z_reGridded = reGridded[(newXcor, newYcor)]\n",
    "newResiduals = zFilt - z_reGridded"
   ]
  },
  {
   "cell_type": "code",
   "execution_count": null,
   "metadata": {
    "scrolled": true
   },
   "outputs": [],
   "source": [
    "#Put the residuals in to a dataframe for visualisation\n",
    "d_regrid = {'x': xFilt, 'y': yFilt, 'z':zFilt, 'z_regridded': z_reGridded, 'residual': newResiduals}\n",
    "reGrid_df = pd.DataFrame(data=d_regrid)\n",
    "reGrid_df"
   ]
  },
  {
   "cell_type": "code",
   "execution_count": null,
   "metadata": {},
   "outputs": [],
   "source": [
    "#Plot image of grid, this time with residual annotations\n",
    "plt.figure(figsize=(30,12))\n",
    "plt.imshow(reGridded.T, origin='lower', extent=extent, cmap='jet')\n",
    "plt.colorbar()\n",
    "\n",
    "#ContourLevels\n",
    "plt.contour(reGridded.T, extent=extent, levels=contours, colors='k', linestyles='-', linewidths=1)\n",
    "\n",
    "#Plot well tops and residuals\n",
    "plt.scatter(xFilt, yFilt, s=20, c='gray')\n",
    "\n",
    "\n",
    "new_res_list = newResiduals.tolist()\n",
    "new_res_list_txt = [str(round(i, 2)) for i in new_res_list]\n",
    "\n",
    "\n",
    "for i, txt in enumerate(new_res_list_txt):\n",
    "    plt.annotate(txt, (x[i], y[i]) , size=10)"
   ]
  },
  {
   "cell_type": "code",
   "execution_count": null,
   "metadata": {},
   "outputs": [],
   "source": [
    "zg=reGridded.ravel()\n",
    "print(zg)"
   ]
  },
  {
   "cell_type": "code",
   "execution_count": null,
   "metadata": {},
   "outputs": [],
   "source": [
    "xg=grid_x.tolist()\n",
    "yg=grid_y.tolist()\n",
    "datagrid = pd.DataFrame({'Easting': grid_x.ravel(), 'Northing': grid_y.ravel(), 'Values': -reGridded.ravel()}, columns=['Easting', 'Northing','Values'])"
   ]
  },
  {
   "cell_type": "code",
   "execution_count": null,
   "metadata": {},
   "outputs": [],
   "source": [
    "datagrid[np.isnan(datagrid)] = 0"
   ]
  },
  {
   "cell_type": "code",
   "execution_count": null,
   "metadata": {},
   "outputs": [],
   "source": [
    "datagrid.to_csv('11_2_regridded_c.csv')"
   ]
  },
  {
   "cell_type": "code",
   "execution_count": null,
   "metadata": {},
   "outputs": [],
   "source": []
  },
  {
   "cell_type": "code",
   "execution_count": null,
   "metadata": {},
   "outputs": [],
   "source": []
  },
  {
   "cell_type": "code",
   "execution_count": null,
   "metadata": {},
   "outputs": [],
   "source": []
  },
  {
   "cell_type": "code",
   "execution_count": null,
   "metadata": {
    "scrolled": true
   },
   "outputs": [],
   "source": [
    "#Update histogram\n",
    "rng2 = np.nanmin(new_res_list), np.nanmax(new_res_list)\n",
    "n, bins, _ = plt.hist(new_res_list, bins='auto',  range=rng2)"
   ]
  },
  {
   "cell_type": "markdown",
   "metadata": {},
   "source": [
    "### KDTree"
   ]
  },
  {
   "cell_type": "code",
   "execution_count": null,
   "metadata": {},
   "outputs": [],
   "source": [
    "from scipy import spatial"
   ]
  },
  {
   "cell_type": "code",
   "execution_count": null,
   "metadata": {},
   "outputs": [],
   "source": [
    "#Create sensible grid outline of integers. Now hardcoded...\n",
    "extent = [596000, 628500, 6640000, 6700000] #Sensible numbers from observed Xmin and Ymin\n",
    "grid_int = 2000 #Hard coded grid spacing\n",
    "#Create arrays of the x and y axis\n",
    "x_points = int((extent[1] - extent[0]) / grid_int)\n",
    "y_points = int((extent[3] - extent[2]) / grid_int)"
   ]
  },
  {
   "cell_type": "code",
   "execution_count": null,
   "metadata": {},
   "outputs": [],
   "source": [
    "#Create the grid. interval expressed by complex numbers\n",
    "grid_x, grid_y = np.mgrid[extent[0]:extent[1]:complex(x_points), extent[2]:extent[3]:complex(y_points)]"
   ]
  },
  {
   "cell_type": "code",
   "execution_count": null,
   "metadata": {},
   "outputs": [],
   "source": [
    "#Create numpy arrays of point co-ordinates and then values from input data\n",
    "points = np.array(list(zip(x, y)))\n",
    "values = z"
   ]
  },
  {
   "cell_type": "code",
   "execution_count": null,
   "metadata": {},
   "outputs": [],
   "source": [
    "#create kd index\n",
    "tree = spatial.KDTree(points.tolist())"
   ]
  },
  {
   "cell_type": "code",
   "execution_count": null,
   "metadata": {},
   "outputs": [],
   "source": [
    "keep=list(set(tree.query(list(zip(grid_x.ravel(), grid_y.ravel())))[1]))\n",
    "xk,yk,zk = x[keep],y[keep],z[keep]"
   ]
  },
  {
   "cell_type": "code",
   "execution_count": null,
   "metadata": {},
   "outputs": [],
   "source": [
    "inds = [i for i in range(x.size)]\n",
    "blinds = [i for i in inds if i not in keep]\n",
    "xb, yb, zb = x[blinds] , y[blinds] , z[blinds]"
   ]
  },
  {
   "cell_type": "code",
   "execution_count": null,
   "metadata": {},
   "outputs": [],
   "source": [
    "plt.scatter(xb, yb, color = 'r', s=40, label='blind test')\n",
    "plt.scatter(xk, yk, color='blue', s=20, label='keep')\n",
    "plt.legend()"
   ]
  },
  {
   "cell_type": "code",
   "execution_count": null,
   "metadata": {},
   "outputs": [],
   "source": [
    "keepdist=list(set(tree.query(list(zip(grid_x.ravel(), grid_y.ravel())))[0]))"
   ]
  },
  {
   "cell_type": "code",
   "execution_count": null,
   "metadata": {},
   "outputs": [],
   "source": [
    "#Create numpy arrays of point co-ordinates and then values from input data\n",
    "points = np.array(list(zip(xk, yk)))\n",
    "values = zk"
   ]
  },
  {
   "cell_type": "code",
   "execution_count": null,
   "metadata": {},
   "outputs": [],
   "source": [
    "#Perform interpolation of data in to the specified grid using scipy\n",
    "gridded = griddata(points, values, (grid_x, grid_y), method='cubic')"
   ]
  },
  {
   "cell_type": "code",
   "execution_count": null,
   "metadata": {},
   "outputs": [],
   "source": [
    "plt.figure(figsize=(20,10))\n",
    "plt.imshow(gridded.T, origin='lower', extent=extent, cmap='jet')\n",
    "plt.colorbar()\n",
    "\n",
    "\n",
    "plt.scatter(xk, yk, s=10, c='k', label = 'Keep')\n",
    "plt.scatter(xb, yb, s=10, c = 'r', label='Blind Test')\n",
    "plt.legend()"
   ]
  },
  {
   "cell_type": "markdown",
   "metadata": {},
   "source": [
    "### KD Residuals"
   ]
  },
  {
   "cell_type": "code",
   "execution_count": null,
   "metadata": {
    "scrolled": true
   },
   "outputs": [],
   "source": [
    "gridded.shape"
   ]
  },
  {
   "cell_type": "code",
   "execution_count": null,
   "metadata": {},
   "outputs": [],
   "source": [
    "# The inline, crossline locations you just provided. Also Grid extent, but as indices given by grid.shape\n",
    "corners_ix = np.array([[0,  0],\n",
    "                       [0, 29],\n",
    "                       [15, 0]])"
   ]
  },
  {
   "cell_type": "code",
   "execution_count": null,
   "metadata": {},
   "outputs": [],
   "source": [
    "transform = bruges.transform.CoordTransform(corners_ix, corners_xy)"
   ]
  },
  {
   "cell_type": "code",
   "execution_count": null,
   "metadata": {},
   "outputs": [],
   "source": [
    "#Re-extract residuals\n",
    "kdXcor, kdYcor = get_top_coords(xk, yk)"
   ]
  },
  {
   "cell_type": "code",
   "execution_count": null,
   "metadata": {},
   "outputs": [],
   "source": [
    "#Extract the value of the grid at the well top locations\n",
    "kdGridPoint = gridded[(kdXcor, kdYcor)]\n",
    "kdResiduals = zk - kdGridPoint"
   ]
  },
  {
   "cell_type": "code",
   "execution_count": null,
   "metadata": {},
   "outputs": [],
   "source": [
    "kd_dict = {'x' : xk,\n",
    "          'y' : yk,\n",
    "          'z' : zk,\n",
    "          'zkd' : kdGridPoint,\n",
    "          'kdResidual' : kdResiduals} "
   ]
  },
  {
   "cell_type": "code",
   "execution_count": null,
   "metadata": {},
   "outputs": [],
   "source": [
    "kd_df = pd.DataFrame(data=kd_dict)"
   ]
  },
  {
   "cell_type": "code",
   "execution_count": null,
   "metadata": {
    "scrolled": true
   },
   "outputs": [],
   "source": [
    "#Update histogram\n",
    "kd_res_list = kdResiduals.tolist()\n",
    "rng3 = np.nanmin(kd_res_list), np.nanmax(kd_res_list)\n",
    "n, bins, _ = plt.hist(kd_res_list, bins='auto',  range=rng3)"
   ]
  },
  {
   "cell_type": "code",
   "execution_count": null,
   "metadata": {},
   "outputs": [],
   "source": [
    "bins = (bins[1:] + bins[:-1]) / 2"
   ]
  },
  {
   "cell_type": "code",
   "execution_count": null,
   "metadata": {},
   "outputs": [],
   "source": [
    "plt.bar(bins, n, width=1, color='g')"
   ]
  },
  {
   "cell_type": "code",
   "execution_count": null,
   "metadata": {},
   "outputs": [],
   "source": [
    "#Blind Test Residuals\n",
    "BkdXcor, BkdYcor = get_top_coords(xb, yb)"
   ]
  },
  {
   "cell_type": "code",
   "execution_count": null,
   "metadata": {},
   "outputs": [],
   "source": [
    "#Extract the value of the grid at the well top locations\n",
    "BkdGridPoint = gridded[(BkdXcor, BkdYcor)]\n",
    "BkdResiduals = zb - BkdGridPoint"
   ]
  },
  {
   "cell_type": "code",
   "execution_count": null,
   "metadata": {
    "scrolled": false
   },
   "outputs": [],
   "source": [
    "#Update histogram\n",
    "Bkd_res_list = BkdResiduals.tolist()\n",
    "rng4 = np.nanmin(Bkd_res_list), np.nanmax(Bkd_res_list)\n",
    "n, bins, _ = plt.hist(Bkd_res_list, bins='auto',  range=rng4)"
   ]
  },
  {
   "cell_type": "code",
   "execution_count": null,
   "metadata": {},
   "outputs": [],
   "source": [
    "bins = (bins[1:] + bins[:-1]) / 2"
   ]
  },
  {
   "cell_type": "code",
   "execution_count": null,
   "metadata": {},
   "outputs": [],
   "source": [
    "plt.bar(bins, n, width=1, color='g')"
   ]
  },
  {
   "cell_type": "markdown",
   "metadata": {},
   "source": [
    "### 2d Fourier Transform"
   ]
  },
  {
   "cell_type": "code",
   "execution_count": null,
   "metadata": {},
   "outputs": [],
   "source": [
    "#Subset data to rectangle. In final version, will have already selected rectangle in ipyvolume phase"
   ]
  },
  {
   "cell_type": "code",
   "execution_count": null,
   "metadata": {
    "scrolled": true
   },
   "outputs": [],
   "source": [
    "gridded.shape"
   ]
  },
  {
   "cell_type": "code",
   "execution_count": null,
   "metadata": {},
   "outputs": [],
   "source": [
    "ft = np.fft.fft2(gridded)"
   ]
  }
 ],
 "metadata": {
  "kernelspec": {
   "display_name": "geocomp2",
   "language": "python",
   "name": "geocomp2"
  },
  "language_info": {
   "codemirror_mode": {
    "name": "ipython",
    "version": 3
   },
   "file_extension": ".py",
   "mimetype": "text/x-python",
   "name": "python",
   "nbconvert_exporter": "python",
   "pygments_lexer": "ipython3",
   "version": "3.6.6"
  }
 },
 "nbformat": 4,
 "nbformat_minor": 2
}
