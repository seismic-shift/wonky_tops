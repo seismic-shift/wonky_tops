{
 "cells": [
  {
   "cell_type": "markdown",
   "metadata": {},
   "source": [
    "# Wonky Tops\n",
    "### Marina Ten, Floris Strijbos, Tom Wade"
   ]
  },
  {
   "cell_type": "code",
   "execution_count": null,
   "metadata": {},
   "outputs": [],
   "source": [
    "import pandas as pd\n",
    "import numpy as np\n",
    "import ipyvolume as ipv\n",
    "import bruges\n",
    "import os"
   ]
  },
  {
   "cell_type": "code",
   "execution_count": null,
   "metadata": {},
   "outputs": [],
   "source": [
    "cwd = os.getcwd()\n",
    "print(cwd)"
   ]
  },
  {
   "cell_type": "code",
   "execution_count": null,
   "metadata": {},
   "outputs": [],
   "source": [
    "#Set the location of the input spreadsheet.\n",
    "xlIn = \"sample_data/11_2.xlsx\"\n",
    "xlPath = os.path.join(cwd, xlIn)"
   ]
  },
  {
   "cell_type": "code",
   "execution_count": null,
   "metadata": {},
   "outputs": [],
   "source": [
    "#Read Input tops data from excel file and get the headers\n",
    "df = pd.read_excel(xlPath)"
   ]
  },
  {
   "cell_type": "code",
   "execution_count": null,
   "metadata": {},
   "outputs": [],
   "source": [
    "#Get a 'list' of all the unique tops found in the input dataset\n",
    "pd.unique(df.Top)"
   ]
  },
  {
   "cell_type": "code",
   "execution_count": null,
   "metadata": {},
   "outputs": [],
   "source": [
    "#Create List of the Tops to be included:\n",
    "tops_list = ['AS11.2','T AS11.2']"
   ]
  },
  {
   "cell_type": "code",
   "execution_count": null,
   "metadata": {},
   "outputs": [],
   "source": [
    "def extract_xyz(data, tops):\n",
    "    \"\"\"\n",
    "    Takes the raw dataframe and a list of desired tops, and returns the X, Y and Z\n",
    "    values as individual arrays (filtering on the tops in the tops list)\n",
    "    \"\"\"\n",
    "    xyz=df.loc[df.Top.isin(tops_list), ['Easting','Northing','Depth_tvdss']].values\n",
    "    return xyz[:,0] , xyz[:,1] , xyz[:,2]"
   ]
  },
  {
   "cell_type": "code",
   "execution_count": null,
   "metadata": {},
   "outputs": [],
   "source": [
    "x, y, z = extract_xyz(df, tops_list)"
   ]
  },
  {
   "cell_type": "code",
   "execution_count": null,
   "metadata": {},
   "outputs": [],
   "source": [
    "def data_extent(xIn , yIn, zIn):\n",
    "    \"\"\"\n",
    "    Given the X, Y and Z data arrays, this function returns the data extent as a list in the form:\n",
    "    [0] = xmin\n",
    "    [1] = xmax\n",
    "    [2] = ymin\n",
    "    [3] = ymax\n",
    "    [4] = zmin\n",
    "    [z] = zmax\n",
    "    \"\"\"\n",
    "    extent = []\n",
    "    extent.append(x.min()) ; extent.append(x.max()) ; extent.append(y.min()) ; extent.append(y.max())\n",
    "    extent.append(z.min()) ; extent.append(z.max())\n",
    "    return extent"
   ]
  },
  {
   "cell_type": "code",
   "execution_count": null,
   "metadata": {},
   "outputs": [],
   "source": [
    "dExtent = data_extent(x,y,z)"
   ]
  },
  {
   "cell_type": "code",
   "execution_count": null,
   "metadata": {},
   "outputs": [],
   "source": [
    "print(dExtent)"
   ]
  },
  {
   "cell_type": "markdown",
   "metadata": {},
   "source": [
    "### Initial processing to mathematically remove obvious outliers"
   ]
  },
  {
   "cell_type": "code",
   "execution_count": null,
   "metadata": {
    "scrolled": false
   },
   "outputs": [],
   "source": [
    "def outliers_iqr(n):\n",
    "    \"\"\"\n",
    "    The interquartile range (IQR), is a measure of statistical dispersion, being equal to the difference \n",
    "    between 75th and 25th percentiles, or between upper and lower quartiles, IQR = Q3 − Q1.\n",
    "    It is a measure of the dispersion similar to standard deviation or variance, but is much more robust \n",
    "    against outliers.\n",
    "    \"\"\"\n",
    "    quartile_1, quartile_3 = np.percentile(n, [25, 75])\n",
    "    iqr = quartile_3 - quartile_1\n",
    "    lower_bound = quartile_1 - (iqr * 1.5)\n",
    "    upper_bound = quartile_3 + (iqr * 1.5)\n",
    "    return np.where((n > upper_bound) | (n < lower_bound))"
   ]
  },
  {
   "cell_type": "code",
   "execution_count": null,
   "metadata": {},
   "outputs": [],
   "source": [
    "def apply_iqr(xIn, yIn, zIn):\n",
    "    \"\"\"\n",
    "    Apply the interquartile range filtering given X,Y and Z arrays of the data\n",
    "    Returns a 2d numpy array of filtered x, y and z\n",
    "    \"\"\"\n",
    "    iqr_test = outliers_iqr(zIn)[0].tolist()\n",
    "    x_smooth, y_smooth, z_smooth = np.delete(xIn,iqr_test), np.delete(yIn,iqr_test), np.delete(zIn,iqr_test)\n",
    "    return np.column_stack((x_smooth, y_smooth, z_smooth))"
   ]
  },
  {
   "cell_type": "code",
   "execution_count": null,
   "metadata": {},
   "outputs": [],
   "source": [
    "iqr_data = apply_iqr(x,y,z)"
   ]
  },
  {
   "cell_type": "code",
   "execution_count": null,
   "metadata": {},
   "outputs": [],
   "source": [
    "def iplot(data, extent):\n",
    "    \"\"\"\n",
    "    This Creates the interactive ipython plot, given an array of data.\n",
    "    This can then be used to interactively edit the dataset\n",
    "    \"\"\"\n",
    "    \n",
    "    ipv.figure()\n",
    "    s = ipv.scatter(data[:,0], data[:,1], data[:,2], marker='sphere', size=3)\n",
    "    ipv.xlim(extent[0], extent[1])\n",
    "    ipv.ylim(extent[2] ,extent[3])\n",
    "    ipv.zlim(extent[4],extent[5])\n",
    "    ipv.animation_control(s)# shows controls for animation controls\n",
    "    ipv.selector_default()\n",
    "    ipv.show()"
   ]
  },
  {
   "cell_type": "code",
   "execution_count": null,
   "metadata": {},
   "outputs": [],
   "source": [
    "iplot(iqr_data, dExtent)"
   ]
  },
  {
   "cell_type": "markdown",
   "metadata": {},
   "source": [
    "### Iterative interactive editing, round1"
   ]
  },
  {
   "cell_type": "code",
   "execution_count": null,
   "metadata": {},
   "outputs": [],
   "source": [
    "#Select points in plot above interactively, using CTRL-R\n",
    "s_sel=s.selected\n",
    "k=s_sel[0].tolist()"
   ]
  },
  {
   "cell_type": "code",
   "execution_count": null,
   "metadata": {},
   "outputs": [],
   "source": [
    "#Pick up points edited in first 'outlier edit' funtion\n",
    "x= x_smooth\n",
    "y = y_smooth\n",
    "z = z_smooth"
   ]
  },
  {
   "cell_type": "code",
   "execution_count": null,
   "metadata": {},
   "outputs": [],
   "source": [
    "#Delete the points\n",
    "xdel=np.delete(x,k)\n",
    "ydel=np.delete(y,k)\n",
    "zdel=np.delete(z,k)"
   ]
  },
  {
   "cell_type": "code",
   "execution_count": null,
   "metadata": {
    "scrolled": false
   },
   "outputs": [],
   "source": [
    "#Redraw the plot with the update pointset\n",
    "ipv.figure()\n",
    "sdel = ipv.scatter(xdel, ydel, zdel, marker='sphere', size=3)\n",
    "ipv.xlim(xmin,xmax)\n",
    "ipv.ylim(ymin,ymax)\n",
    "ipv.zlim(-4000,-1500)\n",
    "ipv.animation_control(s)# shows controls for animation controls\n",
    "ipv.selector_default()\n",
    "ipv.show()"
   ]
  },
  {
   "cell_type": "markdown",
   "metadata": {},
   "source": [
    "### Second edit iteration"
   ]
  },
  {
   "cell_type": "code",
   "execution_count": null,
   "metadata": {},
   "outputs": [],
   "source": [
    "#Select points in plot above, using CTRTL-R. Then procede to select and delete:\n",
    "k2=sdel.selected[0].tolist()"
   ]
  },
  {
   "cell_type": "code",
   "execution_count": null,
   "metadata": {},
   "outputs": [],
   "source": [
    "#Delete the selected points\n",
    "xdel2=np.delete(xdel,k2)\n",
    "ydel2=np.delete(ydel,k2)\n",
    "zdel2=np.delete(zdel,k2)"
   ]
  },
  {
   "cell_type": "code",
   "execution_count": null,
   "metadata": {},
   "outputs": [],
   "source": [
    "#Redraw the plot. Presume no further edits after this\n",
    "ipv.figure()\n",
    "sdel2 = ipv.scatter(xdel2, ydel2, zdel2, marker='sphere', size=3)\n",
    "ipv.xlim(xmin,xmax)\n",
    "ipv.ylim(ymin,ymax)\n",
    "ipv.zlim(-4000,-1500)\n",
    "ipv.animation_control(s)# shows controls for animation controls\n",
    "ipv.selector_default()\n",
    "ipv.show()"
   ]
  },
  {
   "cell_type": "markdown",
   "metadata": {},
   "source": [
    "### Grid up  edited data"
   ]
  },
  {
   "cell_type": "code",
   "execution_count": null,
   "metadata": {},
   "outputs": [],
   "source": [
    "#Reassign edited data to X,Y,Z variable\n",
    "x, y, z = xdel2, ydel2, zdel2"
   ]
  },
  {
   "cell_type": "markdown",
   "metadata": {},
   "source": [
    "### Grid Tops via minimum curvature\n",
    "##### Note this was our first gridding approach. However, a depopulated appoach is going to be preferred..."
   ]
  },
  {
   "cell_type": "code",
   "execution_count": null,
   "metadata": {
    "scrolled": false
   },
   "outputs": [],
   "source": [
    "#Create a grid outline from tops data extent. Start printing extent\n",
    "print(\"Xmin = {} , XMax = {}\\nYmin = {}, Ymax= {}\\nZmin = {}, Zmax = {}\".format(xmin, xmax, ymin, ymax, zmin, zmax))"
   ]
  },
  {
   "cell_type": "code",
   "execution_count": null,
   "metadata": {},
   "outputs": [],
   "source": [
    "#Create sensible grid outline of integers. Currently hardcoded...\n",
    "extent = [596000, 628500, 6640000, 6700000] #Sensible numbers from observed Xmin and Ymin. Defines Grid\n",
    "grid_int = 100 #Hard coded grid spacing\n",
    "#Create arrays of the x and y axis\n",
    "x_points = int((extent[1] - extent[0]) / grid_int) #Number of samples in the X-Direction\n",
    "y_points = int((extent[3] - extent[2]) / grid_int) #Number of samples in the Y-Direction"
   ]
  },
  {
   "cell_type": "code",
   "execution_count": null,
   "metadata": {},
   "outputs": [],
   "source": [
    "#Create the grid. interval expressed by complex numbers\n",
    "grid_x, grid_y = np.mgrid[extent[0]:extent[1]:complex(x_points), extent[2]:extent[3]:complex(y_points)]"
   ]
  },
  {
   "cell_type": "code",
   "execution_count": null,
   "metadata": {},
   "outputs": [],
   "source": [
    "#Create numpy arrays of point co-ordinates and then values from input data\n",
    "points = np.array(list(zip(x, y)))\n",
    "values = z"
   ]
  },
  {
   "cell_type": "code",
   "execution_count": null,
   "metadata": {},
   "outputs": [],
   "source": [
    "#Perform interpolation of data in to the specified grid using scipy\n",
    "from scipy.interpolate import griddata\n",
    "gridded = griddata(points, values, (grid_x, grid_y), method='cubic')"
   ]
  },
  {
   "cell_type": "code",
   "execution_count": null,
   "metadata": {
    "scrolled": false
   },
   "outputs": [],
   "source": [
    "#Initial plot, Pre-Residuals. Can probs delete later\n",
    "import matplotlib.pyplot as plt\n",
    "%matplotlib inline\n",
    "plt.figure(figsize=(20,10))\n",
    "plt.imshow(gridded.T, origin='lower', extent=extent, cmap='jet')\n",
    "plt.colorbar()\n",
    "plt.scatter(x, y, s=20, c=z)\n",
    "\n",
    "plt.gray()\n",
    "plt.colorbar()"
   ]
  },
  {
   "cell_type": "markdown",
   "metadata": {},
   "source": [
    "### Residuals Extraction"
   ]
  },
  {
   "cell_type": "code",
   "execution_count": null,
   "metadata": {},
   "outputs": [],
   "source": [
    "import bruges #Utilise the coordinate transformation functions"
   ]
  },
  {
   "cell_type": "code",
   "execution_count": null,
   "metadata": {},
   "outputs": [],
   "source": [
    "# UTM coords of 3 unique inline, crossline locations. Taken from grid extents (realworld)\n",
    "corners_xy = np.array([[596000, 6640000],\n",
    "                       [596000, 6700000],\n",
    "                       [628500, 6640000]])\n",
    "\n",
    "# The inline, crossline locations you just provided. Also Grid extent, but as indices given by grid.shape\n",
    "corners_ix = np.array([[0,  0],\n",
    "                       [0, 600],\n",
    "                       [325, 0]])"
   ]
  },
  {
   "cell_type": "code",
   "execution_count": null,
   "metadata": {},
   "outputs": [],
   "source": [
    "transform = bruges.transform.CoordTransform(corners_ix, corners_xy)"
   ]
  },
  {
   "cell_type": "code",
   "execution_count": null,
   "metadata": {},
   "outputs": [],
   "source": [
    "#Pissing about to  create lists of well-top coordinates (as currently in np.array). Then transform\n",
    "def get_top_coords(xIn, yIn):\n",
    "    xlist = xIn.tolist()\n",
    "    ylist = yIn.tolist()\n",
    "    merge = list(zip(xlist, ylist))\n",
    "    coordinatesOut = []\n",
    "    for i in merge:\n",
    "        coordinatesOut.append(transform.reverse([i[0], i[1]]))\n",
    "    xcors = np.array([item[0] for item in coordinatesOut])\n",
    "    ycors = np.array([item[1] for item in coordinatesOut])\n",
    "    return xcors , ycors"
   ]
  },
  {
   "cell_type": "code",
   "execution_count": null,
   "metadata": {},
   "outputs": [],
   "source": [
    "xCor, yCor = get_top_coords(x, y)"
   ]
  },
  {
   "cell_type": "code",
   "execution_count": null,
   "metadata": {
    "scrolled": true
   },
   "outputs": [],
   "source": [
    "#Extract the value of the grid at the well top locations\n",
    "z_gridded = gridded[(xCor, yCor)]"
   ]
  },
  {
   "cell_type": "code",
   "execution_count": null,
   "metadata": {},
   "outputs": [],
   "source": [
    "#Calculate the residuals by subtracting gridded value from input top value\n",
    "residuals = z - z_gridded"
   ]
  },
  {
   "cell_type": "code",
   "execution_count": null,
   "metadata": {
    "scrolled": true
   },
   "outputs": [],
   "source": [
    "#Put the residuals in to a dataframe for visualisation\n",
    "d = {'x': x, 'y': y, 'z':z, 'z_gridded': z_gridded, 'residual': residuals}\n",
    "res_df = pd.DataFrame(data=d)\n",
    "res_df.head()"
   ]
  },
  {
   "cell_type": "code",
   "execution_count": null,
   "metadata": {},
   "outputs": [],
   "source": [
    "#Plot image of grid, this time with residual annotations\n",
    "plt.figure(figsize=(20,12))\n",
    "plt.imshow(gridded.T, origin='lower', extent=extent, cmap='jet')\n",
    "plt.colorbar()\n",
    "\n",
    "#Plot well tops and residuals\n",
    "plt.scatter(x, y, s=20, c=z)\n",
    "\n",
    "res_list = residuals.tolist()\n",
    "res_list_txt = [str(round(i, 2)) for i in res_list]\n",
    "\n",
    "for i, txt in enumerate(res_list_txt):\n",
    "    plt.annotate(txt, (x[i], y[i]) , size=10)"
   ]
  },
  {
   "cell_type": "markdown",
   "metadata": {},
   "source": [
    "### Residual Histogram"
   ]
  },
  {
   "cell_type": "code",
   "execution_count": null,
   "metadata": {
    "scrolled": true
   },
   "outputs": [],
   "source": [
    "rng = np.nanmin(res_list), np.nanmax(res_list)\n",
    "n, bins, _ = plt.hist(res_list, bins='auto',  range=rng)"
   ]
  },
  {
   "cell_type": "code",
   "execution_count": null,
   "metadata": {},
   "outputs": [],
   "source": [
    "bins = (bins[1:] + bins[:-1]) / 2"
   ]
  },
  {
   "cell_type": "code",
   "execution_count": null,
   "metadata": {},
   "outputs": [],
   "source": [
    "plt.bar(bins, n, width=0.5, color='g')"
   ]
  },
  {
   "cell_type": "markdown",
   "metadata": {},
   "source": [
    "### Regrid using data with outliers kicked out"
   ]
  },
  {
   "cell_type": "code",
   "execution_count": null,
   "metadata": {},
   "outputs": [],
   "source": [
    "#Filter the input data on the results of tghe first gridding\n",
    "condition1 = ( (res_df.residual > -5) & (res_df.residual < 5) )\n",
    "condition2 = res_df.residual.isna()\n",
    "\n",
    "filteredDf = res_df[condition1 | condition2]"
   ]
  },
  {
   "cell_type": "code",
   "execution_count": null,
   "metadata": {},
   "outputs": [],
   "source": [
    "#Pull data from the filtered pandas data frame into 1d arrays\n",
    "xFilt, yFilt , zFilt = filteredDf.x , filteredDf.y , filteredDf.z"
   ]
  },
  {
   "cell_type": "code",
   "execution_count": null,
   "metadata": {},
   "outputs": [],
   "source": [
    "#Create numpy arrays of point co-ordinates and then values from input data\n",
    "pointsFilt = np.array(list(zip(xFilt, yFilt)))\n",
    "valuesFilt = zFilt"
   ]
  },
  {
   "cell_type": "code",
   "execution_count": null,
   "metadata": {},
   "outputs": [],
   "source": [
    "#Perform interpolation of data in to the specified grid using scipy\n",
    "reGridded = griddata(pointsFilt, valuesFilt, (grid_x, grid_y), method='cubic')"
   ]
  },
  {
   "cell_type": "code",
   "execution_count": null,
   "metadata": {},
   "outputs": [],
   "source": [
    "#Determine array value limits for contour plotting\n",
    "contourInt = 5\n",
    "contourMin = round(int(np.nanmin(reGridded)), -1)\n",
    "contourMax = round(int(np.nanmax(reGridded)), -1)\n",
    "contours = np.arange(contourMin, contourMax, contourInt)"
   ]
  },
  {
   "cell_type": "code",
   "execution_count": null,
   "metadata": {},
   "outputs": [],
   "source": [
    "#Re-extract residuals\n",
    "newXcor, newYcor = get_top_coords(xFilt, yFilt)"
   ]
  },
  {
   "cell_type": "code",
   "execution_count": null,
   "metadata": {},
   "outputs": [],
   "source": [
    "#Extract the value of the grid at the well top locations\n",
    "z_reGridded = reGridded[(newXcor, newYcor)]\n",
    "newResiduals = zFilt - z_reGridded"
   ]
  },
  {
   "cell_type": "code",
   "execution_count": null,
   "metadata": {
    "scrolled": true
   },
   "outputs": [],
   "source": [
    "#Put the residuals in to a dataframe for visualisation\n",
    "d_regrid = {'x': xFilt, 'y': yFilt, 'z':zFilt, 'z_regridded': z_reGridded, 'residual': newResiduals}\n",
    "reGrid_df = pd.DataFrame(data=d_regrid)\n",
    "reGrid_df"
   ]
  },
  {
   "cell_type": "code",
   "execution_count": null,
   "metadata": {},
   "outputs": [],
   "source": [
    "#Plot image of grid, this time with residual annotations\n",
    "plt.figure(figsize=(30,12))\n",
    "plt.imshow(reGridded.T, origin='lower', extent=extent, cmap='jet')\n",
    "plt.colorbar()\n",
    "\n",
    "#ContourLevels\n",
    "plt.contour(reGridded.T, extent=extent, levels=contours, colors='k', linestyles='-', linewidths=1)\n",
    "\n",
    "#Plot well tops and residuals\n",
    "plt.scatter(xFilt, yFilt, s=20, c='gray')\n",
    "\n",
    "\n",
    "new_res_list = newResiduals.tolist()\n",
    "new_res_list_txt = [str(round(i, 2)) for i in new_res_list]\n",
    "\n",
    "\n",
    "for i, txt in enumerate(new_res_list_txt):\n",
    "    plt.annotate(txt, (x[i], y[i]) , size=10)"
   ]
  },
  {
   "cell_type": "code",
   "execution_count": null,
   "metadata": {},
   "outputs": [],
   "source": [
    "zg=reGridded.ravel()\n",
    "print(zg)"
   ]
  },
  {
   "cell_type": "code",
   "execution_count": null,
   "metadata": {},
   "outputs": [],
   "source": [
    "xg=grid_x.tolist()\n",
    "yg=grid_y.tolist()\n",
    "datagrid = pd.DataFrame({'Easting': grid_x.ravel(), 'Northing': grid_y.ravel(), 'Values': -reGridded.ravel()}, columns=['Easting', 'Northing','Values'])"
   ]
  },
  {
   "cell_type": "code",
   "execution_count": null,
   "metadata": {},
   "outputs": [],
   "source": [
    "datagrid[np.isnan(datagrid)] = 0"
   ]
  },
  {
   "cell_type": "code",
   "execution_count": null,
   "metadata": {},
   "outputs": [],
   "source": [
    "datagrid.to_csv('11_2_regridded_c.csv')"
   ]
  },
  {
   "cell_type": "code",
   "execution_count": null,
   "metadata": {},
   "outputs": [],
   "source": []
  },
  {
   "cell_type": "code",
   "execution_count": null,
   "metadata": {},
   "outputs": [],
   "source": []
  },
  {
   "cell_type": "code",
   "execution_count": null,
   "metadata": {},
   "outputs": [],
   "source": []
  },
  {
   "cell_type": "code",
   "execution_count": null,
   "metadata": {
    "scrolled": true
   },
   "outputs": [],
   "source": [
    "#Update histogram\n",
    "rng2 = np.nanmin(new_res_list), np.nanmax(new_res_list)\n",
    "n, bins, _ = plt.hist(new_res_list, bins='auto',  range=rng2)"
   ]
  },
  {
   "cell_type": "markdown",
   "metadata": {},
   "source": [
    "### KDTree"
   ]
  },
  {
   "cell_type": "code",
   "execution_count": null,
   "metadata": {},
   "outputs": [],
   "source": [
    "from scipy import spatial"
   ]
  },
  {
   "cell_type": "code",
   "execution_count": null,
   "metadata": {},
   "outputs": [],
   "source": [
    "#Create sensible grid outline of integers. Now hardcoded...\n",
    "extent = [596000, 628500, 6640000, 6700000] #Sensible numbers from observed Xmin and Ymin\n",
    "grid_int = 2000 #Hard coded grid spacing\n",
    "#Create arrays of the x and y axis\n",
    "x_points = int((extent[1] - extent[0]) / grid_int)\n",
    "y_points = int((extent[3] - extent[2]) / grid_int)"
   ]
  },
  {
   "cell_type": "code",
   "execution_count": null,
   "metadata": {},
   "outputs": [],
   "source": [
    "#Create the grid. interval expressed by complex numbers\n",
    "grid_x, grid_y = np.mgrid[extent[0]:extent[1]:complex(x_points), extent[2]:extent[3]:complex(y_points)]"
   ]
  },
  {
   "cell_type": "code",
   "execution_count": null,
   "metadata": {},
   "outputs": [],
   "source": [
    "#Create numpy arrays of point co-ordinates and then values from input data\n",
    "points = np.array(list(zip(x, y)))\n",
    "values = z"
   ]
  },
  {
   "cell_type": "code",
   "execution_count": null,
   "metadata": {},
   "outputs": [],
   "source": [
    "#create kd index\n",
    "tree = spatial.KDTree(points.tolist())"
   ]
  },
  {
   "cell_type": "code",
   "execution_count": null,
   "metadata": {},
   "outputs": [],
   "source": [
    "keep=list(set(tree.query(list(zip(grid_x.ravel(), grid_y.ravel())))[1]))\n",
    "xk,yk,zk = x[keep],y[keep],z[keep]"
   ]
  },
  {
   "cell_type": "code",
   "execution_count": null,
   "metadata": {},
   "outputs": [],
   "source": [
    "inds = [i for i in range(x.size)]\n",
    "blinds = [i for i in inds if i not in keep]\n",
    "xb, yb, zb = x[blinds] , y[blinds] , z[blinds]"
   ]
  },
  {
   "cell_type": "code",
   "execution_count": null,
   "metadata": {},
   "outputs": [],
   "source": [
    "plt.scatter(xb, yb, color = 'r', s=40, label='blind test')\n",
    "plt.scatter(xk, yk, color='blue', s=20, label='keep')\n",
    "plt.legend()"
   ]
  },
  {
   "cell_type": "code",
   "execution_count": null,
   "metadata": {},
   "outputs": [],
   "source": [
    "keepdist=list(set(tree.query(list(zip(grid_x.ravel(), grid_y.ravel())))[0]))"
   ]
  },
  {
   "cell_type": "code",
   "execution_count": null,
   "metadata": {},
   "outputs": [],
   "source": [
    "#Create numpy arrays of point co-ordinates and then values from input data\n",
    "points = np.array(list(zip(xk, yk)))\n",
    "values = zk"
   ]
  },
  {
   "cell_type": "code",
   "execution_count": null,
   "metadata": {},
   "outputs": [],
   "source": [
    "#Perform interpolation of data in to the specified grid using scipy\n",
    "gridded = griddata(points, values, (grid_x, grid_y), method='cubic')"
   ]
  },
  {
   "cell_type": "code",
   "execution_count": null,
   "metadata": {},
   "outputs": [],
   "source": [
    "plt.figure(figsize=(20,10))\n",
    "plt.imshow(gridded.T, origin='lower', extent=extent, cmap='jet')\n",
    "plt.colorbar()\n",
    "\n",
    "\n",
    "plt.scatter(xk, yk, s=10, c='k', label = 'Keep')\n",
    "plt.scatter(xb, yb, s=10, c = 'r', label='Blind Test')\n",
    "plt.legend()"
   ]
  },
  {
   "cell_type": "markdown",
   "metadata": {},
   "source": [
    "### KD Residuals"
   ]
  },
  {
   "cell_type": "code",
   "execution_count": null,
   "metadata": {
    "scrolled": true
   },
   "outputs": [],
   "source": [
    "gridded.shape"
   ]
  },
  {
   "cell_type": "code",
   "execution_count": null,
   "metadata": {},
   "outputs": [],
   "source": [
    "# The inline, crossline locations you just provided. Also Grid extent, but as indices given by grid.shape\n",
    "corners_ix = np.array([[0,  0],\n",
    "                       [0, 29],\n",
    "                       [15, 0]])"
   ]
  },
  {
   "cell_type": "code",
   "execution_count": null,
   "metadata": {},
   "outputs": [],
   "source": [
    "transform = bruges.transform.CoordTransform(corners_ix, corners_xy)"
   ]
  },
  {
   "cell_type": "code",
   "execution_count": null,
   "metadata": {},
   "outputs": [],
   "source": [
    "#Re-extract residuals\n",
    "kdXcor, kdYcor = get_top_coords(xk, yk)"
   ]
  },
  {
   "cell_type": "code",
   "execution_count": null,
   "metadata": {},
   "outputs": [],
   "source": [
    "#Extract the value of the grid at the well top locations\n",
    "kdGridPoint = gridded[(kdXcor, kdYcor)]\n",
    "kdResiduals = zk - kdGridPoint"
   ]
  },
  {
   "cell_type": "code",
   "execution_count": null,
   "metadata": {},
   "outputs": [],
   "source": [
    "kd_dict = {'x' : xk,\n",
    "          'y' : yk,\n",
    "          'z' : zk,\n",
    "          'zkd' : kdGridPoint,\n",
    "          'kdResidual' : kdResiduals} "
   ]
  },
  {
   "cell_type": "code",
   "execution_count": null,
   "metadata": {},
   "outputs": [],
   "source": [
    "kd_df = pd.DataFrame(data=kd_dict)"
   ]
  },
  {
   "cell_type": "code",
   "execution_count": null,
   "metadata": {
    "scrolled": true
   },
   "outputs": [],
   "source": [
    "#Update histogram\n",
    "kd_res_list = kdResiduals.tolist()\n",
    "rng3 = np.nanmin(kd_res_list), np.nanmax(kd_res_list)\n",
    "n, bins, _ = plt.hist(kd_res_list, bins='auto',  range=rng3)"
   ]
  },
  {
   "cell_type": "code",
   "execution_count": null,
   "metadata": {},
   "outputs": [],
   "source": [
    "bins = (bins[1:] + bins[:-1]) / 2"
   ]
  },
  {
   "cell_type": "code",
   "execution_count": null,
   "metadata": {},
   "outputs": [],
   "source": [
    "plt.bar(bins, n, width=1, color='g')"
   ]
  },
  {
   "cell_type": "code",
   "execution_count": null,
   "metadata": {},
   "outputs": [],
   "source": [
    "#Blind Test Residuals\n",
    "BkdXcor, BkdYcor = get_top_coords(xb, yb)"
   ]
  },
  {
   "cell_type": "code",
   "execution_count": null,
   "metadata": {},
   "outputs": [],
   "source": [
    "#Extract the value of the grid at the well top locations\n",
    "BkdGridPoint = gridded[(BkdXcor, BkdYcor)]\n",
    "BkdResiduals = zb - BkdGridPoint"
   ]
  },
  {
   "cell_type": "code",
   "execution_count": null,
   "metadata": {
    "scrolled": false
   },
   "outputs": [],
   "source": [
    "#Update histogram\n",
    "Bkd_res_list = BkdResiduals.tolist()\n",
    "rng4 = np.nanmin(Bkd_res_list), np.nanmax(Bkd_res_list)\n",
    "n, bins, _ = plt.hist(Bkd_res_list, bins='auto',  range=rng4)"
   ]
  },
  {
   "cell_type": "code",
   "execution_count": null,
   "metadata": {},
   "outputs": [],
   "source": [
    "bins = (bins[1:] + bins[:-1]) / 2"
   ]
  },
  {
   "cell_type": "code",
   "execution_count": null,
   "metadata": {},
   "outputs": [],
   "source": [
    "plt.bar(bins, n, width=1, color='g')"
   ]
  },
  {
   "cell_type": "markdown",
   "metadata": {},
   "source": [
    "### 2d Fourier Transform"
   ]
  },
  {
   "cell_type": "code",
   "execution_count": null,
   "metadata": {},
   "outputs": [],
   "source": [
    "#Subset data to rectangle. In final version, will have already selected rectangle in ipyvolume phase"
   ]
  },
  {
   "cell_type": "code",
   "execution_count": null,
   "metadata": {
    "scrolled": true
   },
   "outputs": [],
   "source": [
    "gridded.shape"
   ]
  },
  {
   "cell_type": "code",
   "execution_count": null,
   "metadata": {},
   "outputs": [],
   "source": [
    "ft = np.fft.fft2(gridded)"
   ]
  }
 ],
 "metadata": {
  "kernelspec": {
   "display_name": "geocomp2",
   "language": "python",
   "name": "geocomp2"
  },
  "language_info": {
   "codemirror_mode": {
    "name": "ipython",
    "version": 3
   },
   "file_extension": ".py",
   "mimetype": "text/x-python",
   "name": "python",
   "nbconvert_exporter": "python",
   "pygments_lexer": "ipython3",
   "version": "3.6.6"
  }
 },
 "nbformat": 4,
 "nbformat_minor": 2
}
