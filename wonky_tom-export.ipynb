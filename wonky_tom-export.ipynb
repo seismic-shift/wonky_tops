{
 "cells": [
  {
   "cell_type": "markdown",
   "metadata": {},
   "source": [
    "# WonkyTops\n",
    "### Tom Wade, Floris Strijbos, Marina Ten"
   ]
  },
  {
   "cell_type": "code",
   "execution_count": null,
   "metadata": {},
   "outputs": [],
   "source": [
    "import pandas as pd\n",
    "import numpy as np\n",
    "import ipyvolume as ipv\n",
    "import bruges\n",
    "import os\n",
    "import math\n",
    "from scipy.interpolate import griddata\n",
    "import matplotlib.pyplot as plt\n",
    "%matplotlib inline"
   ]
  },
  {
   "cell_type": "code",
   "execution_count": null,
   "metadata": {},
   "outputs": [],
   "source": [
    "cwd = os.getcwd()\n",
    "print(cwd)"
   ]
  },
  {
   "cell_type": "code",
   "execution_count": null,
   "metadata": {},
   "outputs": [],
   "source": [
    "#Set the location of the input spreadsheet.\n",
    "xlIn = \"sample_data/11_2.xlsx\"\n",
    "xlPath = os.path.join(cwd, xlIn)"
   ]
  },
  {
   "cell_type": "code",
   "execution_count": null,
   "metadata": {},
   "outputs": [],
   "source": [
    "#Read Input tops data from excel file and get the headers\n",
    "df = pd.read_excel(xlPath)"
   ]
  },
  {
   "cell_type": "code",
   "execution_count": null,
   "metadata": {},
   "outputs": [],
   "source": [
    "#Get a 'list' of all the unique tops found in the input dataset\n",
    "pd.unique(df.Top)"
   ]
  },
  {
   "cell_type": "code",
   "execution_count": null,
   "metadata": {},
   "outputs": [],
   "source": [
    "#Create List of the Tops to be included:\n",
    "tops_list = ['AS11.2','T AS11.2']"
   ]
  },
  {
   "cell_type": "code",
   "execution_count": null,
   "metadata": {},
   "outputs": [],
   "source": [
    "def extract_xyz(data, tops):\n",
    "    \"\"\"\n",
    "    Takes the raw dataframe and a list of desired tops, and returns the X, Y and Z\n",
    "    values as individual arrays (filtering on the tops in the tops list)\n",
    "    \"\"\"\n",
    "    xyz=df.loc[df.Top.isin(tops_list), ['Easting','Northing','Depth_tvdss']].values\n",
    "    return xyz[:,0] , xyz[:,1] , xyz[:,2]"
   ]
  },
  {
   "cell_type": "code",
   "execution_count": null,
   "metadata": {},
   "outputs": [],
   "source": [
    "x, y, z = extract_xyz(df, tops_list)"
   ]
  },
  {
   "cell_type": "code",
   "execution_count": null,
   "metadata": {},
   "outputs": [],
   "source": [
    "def data_extent(xIn , yIn, zIn):\n",
    "    \"\"\"\n",
    "    Given the X, Y and Z data arrays, this function returns the data extent as a list in the form:\n",
    "    [0] = xmin\n",
    "    [1] = xmax\n",
    "    [2] = ymin\n",
    "    [3] = ymax\n",
    "    [4] = zmin\n",
    "    [z] = zmax\n",
    "    \"\"\"\n",
    "    extent = []\n",
    "    extent.append(x.min()) ; extent.append(x.max()) ; extent.append(y.min()) ; extent.append(y.max())\n",
    "    extent.append(z.min()) ; extent.append(z.max())\n",
    "    return extent"
   ]
  },
  {
   "cell_type": "code",
   "execution_count": null,
   "metadata": {},
   "outputs": [],
   "source": [
    "dExtent = data_extent(x,y,z)"
   ]
  },
  {
   "cell_type": "markdown",
   "metadata": {},
   "source": [
    "### Initial processing to mathematically remove obvious outliers"
   ]
  },
  {
   "cell_type": "code",
   "execution_count": null,
   "metadata": {
    "scrolled": false
   },
   "outputs": [],
   "source": [
    "def outliers_iqr(n):\n",
    "    \"\"\"\n",
    "    The interquartile range (IQR), is a measure of statistical dispersion, being equal to the difference \n",
    "    between 75th and 25th percentiles, or between upper and lower quartiles, IQR = Q3 − Q1.\n",
    "    It is a measure of the dispersion similar to standard deviation or variance, but is much more robust \n",
    "    against outliers.\n",
    "    \"\"\"\n",
    "    quartile_1, quartile_3 = np.percentile(n, [25, 75])\n",
    "    iqr = quartile_3 - quartile_1\n",
    "    lower_bound = quartile_1 - (iqr * 1.5)\n",
    "    upper_bound = quartile_3 + (iqr * 1.5)\n",
    "    return np.where((n > upper_bound) | (n < lower_bound))"
   ]
  },
  {
   "cell_type": "code",
   "execution_count": null,
   "metadata": {},
   "outputs": [],
   "source": [
    "def apply_iqr(xIn, yIn, zIn):\n",
    "    \"\"\"\n",
    "    Apply the interquartile range filtering given X,Y and Z arrays of the data\n",
    "    Returns a 2d numpy array of filtered x, y and z\n",
    "    \"\"\"\n",
    "    iqr_test = outliers_iqr(zIn)[0].tolist()\n",
    "    x_smooth, y_smooth, z_smooth = np.delete(xIn,iqr_test), np.delete(yIn,iqr_test), np.delete(zIn,iqr_test)\n",
    "    return np.column_stack((x_smooth, y_smooth, z_smooth))"
   ]
  },
  {
   "cell_type": "code",
   "execution_count": null,
   "metadata": {},
   "outputs": [],
   "source": [
    "#Create filtered data using IQR data set. Pass function X,Y & Z\n",
    "iqr_data = apply_iqr(x,y,z)"
   ]
  },
  {
   "cell_type": "code",
   "execution_count": null,
   "metadata": {},
   "outputs": [],
   "source": [
    "def iplot(data, extent):\n",
    "    \"\"\"\n",
    "    This Creates the interactive ipython plot, given an array of data.\n",
    "    This can then be used to interactively edit the dataset. Note it returns an ipv scatter object\n",
    "    which contains the filter 'selection', which can then be applied\n",
    "    \"\"\"\n",
    "    \n",
    "    ipv.figure()\n",
    "    s = ipv.scatter(data[:,0], data[:,1], data[:,2], marker='sphere', size=3)\n",
    "    ipv.xlim(extent[0], extent[1])\n",
    "    ipv.ylim(extent[2] ,extent[3])\n",
    "    ipv.zlim(extent[4],extent[5])\n",
    "    ipv.animation_control(s)# shows controls for animation controls\n",
    "    ipv.selector_default()\n",
    "    ipv.show()\n",
    "    return s"
   ]
  },
  {
   "cell_type": "code",
   "execution_count": null,
   "metadata": {},
   "outputs": [],
   "source": [
    "#Create the interactive plot, and also return the ipyvol scatter object\n",
    "scat = iplot(iqr_data, dExtent)"
   ]
  },
  {
   "cell_type": "markdown",
   "metadata": {},
   "source": [
    "### Iterative interactive editing"
   ]
  },
  {
   "cell_type": "code",
   "execution_count": null,
   "metadata": {},
   "outputs": [],
   "source": [
    "def delete_selected(s):\n",
    "    \"\"\"\n",
    "    This function takes a scatter object returned from the function iplot, and then\n",
    "    returns a filtered numpy arraty of xyz which can then be reploted\n",
    "    \"\"\"\n",
    "    xFilt = np.delete(s.x, s.selected)\n",
    "    yFilt = np.delete(s.y, s.selected)\n",
    "    zFilt = np.delete(s.z, s.selected)\n",
    "    return np.column_stack((xFilt, yFilt, zFilt))"
   ]
  },
  {
   "cell_type": "code",
   "execution_count": null,
   "metadata": {},
   "outputs": [],
   "source": [
    "#Filter the dataset on the selected points, and reassign to variable\n",
    "filtered = delete_selected(scat)"
   ]
  },
  {
   "cell_type": "code",
   "execution_count": null,
   "metadata": {},
   "outputs": [],
   "source": [
    "#Redraw the plot with the filtered data\n",
    "scat = iplot(filtered, dExtent)"
   ]
  },
  {
   "cell_type": "code",
   "execution_count": null,
   "metadata": {},
   "outputs": [],
   "source": [
    "#Refilter the data on any new selection made in the ipyvolume plot\n",
    "filtered = delete_selected(scat)"
   ]
  },
  {
   "cell_type": "code",
   "execution_count": null,
   "metadata": {},
   "outputs": [],
   "source": [
    "#Replot\n",
    "iplot(filtered, dExtent)"
   ]
  },
  {
   "cell_type": "markdown",
   "metadata": {},
   "source": [
    "### Note, you can keep interactively editing the data using the iplot and delete selected functions\n",
    "An item to be developed is to keep all interactive editing in one plot, without having to keep recalling/redrawinh it."
   ]
  },
  {
   "cell_type": "markdown",
   "metadata": {},
   "source": [
    "### Grid Tops via minimum curvature\n",
    "##### Note this was our first gridding approach. However, a depopulated appoach is going to be preferred..."
   ]
  },
  {
   "cell_type": "code",
   "execution_count": null,
   "metadata": {},
   "outputs": [],
   "source": [
    "def create_grid_outline(raw_extent, spacing):\n",
    "    \"\"\"\n",
    "    Takes the extent of the input data (x,y,z) as a list, and the desired spacing of the output grid\n",
    "    Returns the X and Y arrays of the grid, in a regularly spaced interval\n",
    "    \"\"\"\n",
    "    #Determine rounded corner points to define the grid\n",
    "    extent_round = []\n",
    "    for i in range(len(raw_extent)):\n",
    "        if i % 2 == 0:\n",
    "            extent_round.append(int(math.floor(raw_extent[i] / float(spacing))) * spacing)\n",
    "            continue\n",
    "        extent_round.append(int(math.ceil(raw_extent[i] / float(spacing))) * spacing)\n",
    "    nX_points = int((extent_round[1] - extent_round[0]) / spacing)\n",
    "    nY_points = int((extent_round[3] - extent_round[2]) / spacing)\n",
    "    grid_x, grid_y = np.mgrid[extent_round[0]:extent_round[1]:complex(nX_points), extent_round[2]:extent_round[3]:complex(nY_points)]\n",
    "    return grid_x, grid_y, extent_round\n",
    "    \n",
    "    "
   ]
  },
  {
   "cell_type": "code",
   "execution_count": null,
   "metadata": {},
   "outputs": [],
   "source": [
    "#Create regularly spaced grid axis\n",
    "gridX, gridY, grid_extent = create_grid_outline(dExtent, 100)"
   ]
  },
  {
   "cell_type": "code",
   "execution_count": null,
   "metadata": {},
   "outputs": [],
   "source": [
    "def point_coordinates(data):\n",
    "    \"\"\"\n",
    "    Returns the coordinates of an input XYZ array as an array of coordinate pairs in a list\n",
    "    \"\"\"\n",
    "    return np.array(list(zip(data[:,0], data[:,1])))\n",
    "    "
   ]
  },
  {
   "cell_type": "code",
   "execution_count": null,
   "metadata": {},
   "outputs": [],
   "source": [
    "#Set coordinate points and z values ready to be interpolated\n",
    "points = point_coordinates(filtered)\n",
    "values = filtered[:,2]"
   ]
  },
  {
   "cell_type": "code",
   "execution_count": null,
   "metadata": {},
   "outputs": [],
   "source": [
    "def grid_surface(points, values, xgrid, ygrid, intMeth):\n",
    "    \"\"\"\n",
    "    Used Scipy to interpolate points data in to a predefined grid.\n",
    "    Required a set of coordinate points, a 1d array of depths, a\n",
    "    x-axis and y-axis defining the grid to interpolate in to.\n",
    "    Utilised Scipy's 'griddate' interpolator. Different methods can be passed:\n",
    "    -cubic\n",
    "    -linear\n",
    "    -nearest    \n",
    "    \"\"\"\n",
    "    return griddata(points, values, (xgrid, ygrid), method=intMeth)"
   ]
  },
  {
   "cell_type": "code",
   "execution_count": null,
   "metadata": {},
   "outputs": [],
   "source": [
    "#Create an interpolated grid from input data in to regular grid\n",
    "grid = grid_surface(points, values, gridX, gridY, intMeth='cubic')"
   ]
  },
  {
   "cell_type": "code",
   "execution_count": null,
   "metadata": {},
   "outputs": [],
   "source": [
    "def plot_surface(gridData, extent, topsData, **kwargs):\n",
    "    \"\"\"\n",
    "    Creates a plot of the gridded up well tops, plots the original well tops points\n",
    "    Takes an optional keyword argument 'res' if residuals are to be plotted.\n",
    "    This takes residuals as an X,Y,Z(residal) array\n",
    "    Optional keyword arguments are a contour interval (required to plot contours)\n",
    "    and original well tops (To compare current grid to original input points)\n",
    "    \"\"\"\n",
    "    plt.figure(figsize=(20,10))\n",
    "    plt.imshow(gridData.T, origin='lower', extent=extent[:4], cmap='jet')\n",
    "    plt.colorbar()  \n",
    "    \n",
    "    #Plot the cleaned up well tops as a scatter over the top of the grid\n",
    "    topX, topY = topsData[:,0] , topsData[:,1]\n",
    "    plt.scatter(topX, topY, s=20, c='k')\n",
    "    \n",
    "    #Plot residuals if calculated and in kwargs\n",
    "    if 'res' in kwargs:\n",
    "        xRes = kwargs.get(\"res\")[:,0]\n",
    "        yRes = kwargs.get(\"res\")[:,1]\n",
    "        residuals = kwargs.get(\"res\")[:,3]\n",
    "        res_list = residuals.tolist()\n",
    "        res_txt = [str(round(i, 2)) for i in res_list]\n",
    "\n",
    "        for i, txt in enumerate(res_txt):\n",
    "            plt.annotate(txt, (xRes[i], yRes[i]) , size=10)\n",
    "            \n",
    "    #Plot Contours\n",
    "    if 'cont_int' in kwargs:\n",
    "        contourInt = kwargs.get(\"cont_int\")\n",
    "        contourMin = round(int(np.nanmin(gridData)), -1)\n",
    "        contourMax = round(int(np.nanmax(gridData)), -1)\n",
    "        contours = np.arange(contourMin, contourMax, contourInt)\n",
    "        plt.contour(gridData.T, extent=extent[:4], levels=contours, colors='k', linestyles='-', linewidths=1)\n",
    "        \n",
    "    if 'original' in kwargs:\n",
    "        originalTops = kwargs.get(\"original\")\n",
    "        xorig, yorig = originalTops[:,0] , originalTops[:,1]\n",
    "        plt.scatter(xorig, yorig, s=20, color='gray')\n",
    "        \n"
   ]
  },
  {
   "cell_type": "markdown",
   "metadata": {},
   "source": [
    "### Residuals Extraction"
   ]
  },
  {
   "cell_type": "code",
   "execution_count": null,
   "metadata": {},
   "outputs": [],
   "source": [
    "def calculate_residuals(gExt, gridIn, tops):\n",
    "    \"\"\"\n",
    "    Extract Residuals given a grid, its extent and the well tops\n",
    "    Return X,Y,Z AND Residual as numpy array\n",
    "    \"\"\"\n",
    "    corners_xy = np.array([[gExt[0], gExt[2]],\n",
    "                       [gExt[0], gExt[3]],\n",
    "                       [gExt[1], gExt[2]]])\n",
    "    \n",
    "    corners_ix = np.array([[0,  0],\n",
    "                       [0, gridIn.shape[1]],\n",
    "                       [gridIn.shape[0],0]])\n",
    "    \n",
    "    transform = bruges.transform.CoordTransform(corners_ix, corners_xy)\n",
    "    \n",
    "    x = tops[:,0].tolist()\n",
    "    y = tops[:,1].tolist()\n",
    "    xyMerge = list(zip(x,y))\n",
    "    \n",
    "    coordinatesOut = [transform.reverse([i[0], i[1]]) for i in xyMerge]\n",
    "    \n",
    "    xcors = np.array([item[0] for item in coordinatesOut])\n",
    "    ycors = np.array([item[1] for item in coordinatesOut])\n",
    "    \n",
    "    zGrid = gridIn[(xcors, ycors)]\n",
    "    z = tops[:,2]\n",
    "    \n",
    "    residuals = z - zGrid\n",
    "    \n",
    "    return np.column_stack((tops[:,0], tops[:,1], tops[:,2], residuals))"
   ]
  },
  {
   "cell_type": "code",
   "execution_count": null,
   "metadata": {},
   "outputs": [],
   "source": [
    "#Get the residuals data. The difference between well top and gridded surface\n",
    "residuals = calculate_residuals(grid_extent, grid, filtered)"
   ]
  },
  {
   "cell_type": "code",
   "execution_count": null,
   "metadata": {},
   "outputs": [],
   "source": [
    "plot_surface(grid, dExtent, filtered, res=residuals)"
   ]
  },
  {
   "cell_type": "markdown",
   "metadata": {},
   "source": [
    "### Residual Histogram"
   ]
  },
  {
   "cell_type": "code",
   "execution_count": null,
   "metadata": {},
   "outputs": [],
   "source": [
    "def plot_hist(data):\n",
    "    \"\"\"\n",
    "    Plot a histogram of the input data. It removed nans which the binning doesnt like\n",
    "    \"\"\"\n",
    "    #Dodgy function to account for our data being a 1d series of z values, or an XYZ arrat\n",
    "    if data.ndim == 2:\n",
    "        data = data[:,3]\n",
    "    data = data[~np.isnan(data)]\n",
    "    rng = np.nanmin(data), np.nanmax(data)\n",
    "    n, bins, _ = plt.hist(data, bins='auto',  range=rng)"
   ]
  },
  {
   "cell_type": "code",
   "execution_count": null,
   "metadata": {
    "scrolled": true
   },
   "outputs": [],
   "source": [
    "plot_hist(residuals)"
   ]
  },
  {
   "cell_type": "markdown",
   "metadata": {},
   "source": [
    "### Regrid using data with histogram outliers kicked out\n",
    "This part of the workflow needs thought... Understand outliers. Got back to well tops etc\n",
    "There may be a good case not to run this part of the workflow..!"
   ]
  },
  {
   "cell_type": "code",
   "execution_count": null,
   "metadata": {},
   "outputs": [],
   "source": [
    "def filter_on_condition(data, upper, lower):\n",
    "    \"\"\"\n",
    "    Returns the data with outliers above and below given values removed\n",
    "    Need to specify the upper and lower bounds when calling the function\n",
    "    Takes the 2d array (XYZ) and returns an XYZ. This keeps the coordinates so residuls can be regridded/reused\n",
    "    \"\"\"\n",
    "    \n",
    "    #Remove nans\n",
    "    data = data[~np.isnan(data[:,3])]\n",
    "    \n",
    "    #Apply upper and lower cutoffs\n",
    "    data = (data[data[:,3] < upper , :])\n",
    "    data = data[data[:,3] > lower , :]\n",
    "    \n",
    "    return data"
   ]
  },
  {
   "cell_type": "code",
   "execution_count": null,
   "metadata": {},
   "outputs": [],
   "source": [
    "residuals_filtered = filter_on_condition(residuals, 5, -5)"
   ]
  },
  {
   "cell_type": "code",
   "execution_count": null,
   "metadata": {},
   "outputs": [],
   "source": [
    "#Rerun histogram to check outliers are removed\n",
    "plot_hist(residuals_filtered)"
   ]
  },
  {
   "cell_type": "code",
   "execution_count": null,
   "metadata": {},
   "outputs": [],
   "source": [
    "#Set coordinate points and z values ready to be interpolated\n",
    "points = point_coordinates(residuals_filtered)\n",
    "values = residuals_filtered[:,2]"
   ]
  },
  {
   "cell_type": "code",
   "execution_count": null,
   "metadata": {},
   "outputs": [],
   "source": [
    "#Recreate the surface using the refiltered tops\n",
    "grid = grid_surface(points, values, gridX, gridY, intMeth='cubic')"
   ]
  },
  {
   "cell_type": "code",
   "execution_count": null,
   "metadata": {},
   "outputs": [],
   "source": [
    "#Replot the surface\n",
    "plot_surface(grid, dExtent, residuals_filtered, cont_int=5, original=np.column_stack((x,y,z)))"
   ]
  },
  {
   "cell_type": "markdown",
   "metadata": {},
   "source": [
    "### Output grid as CSV"
   ]
  },
  {
   "cell_type": "code",
   "execution_count": null,
   "metadata": {},
   "outputs": [],
   "source": [
    "def grid_to_csv(gridx, gridy, grid_data, infPath):\n",
    "    \"\"\"\n",
    "    Function to write the final grid to a CSV file\n",
    "    \"\"\"\n",
    "    outPath = os.path.splitext(infPath)[0] + '_regridded.csv'\n",
    "    datagrid = pd.DataFrame({'Easting': gridx.ravel(),\n",
    "                             'Northing': gridy.ravel(),\n",
    "                             'Values': -grid_data.ravel()},\n",
    "                            columns=['Easting', 'Northing','Values'])\n",
    "    datagrid[np.isnan(datagrid)] = 0\n",
    "    datagrid.to_csv(outPath, index=False)"
   ]
  },
  {
   "cell_type": "code",
   "execution_count": null,
   "metadata": {},
   "outputs": [],
   "source": [
    "grid_to_csv(gridX, gridY, grid, xlPath)"
   ]
  },
  {
   "cell_type": "markdown",
   "metadata": {},
   "source": [
    "### KDTree"
   ]
  },
  {
   "cell_type": "code",
   "execution_count": null,
   "metadata": {},
   "outputs": [],
   "source": [
    "from scipy import spatial"
   ]
  },
  {
   "cell_type": "code",
   "execution_count": null,
   "metadata": {},
   "outputs": [],
   "source": [
    "#Create sensible grid outline of integers. Now hardcoded...\n",
    "extent = [596000, 628500, 6640000, 6700000] #Sensible numbers from observed Xmin and Ymin\n",
    "grid_int = 2000 #Hard coded grid spacing\n",
    "#Create arrays of the x and y axis\n",
    "x_points = int((extent[1] - extent[0]) / grid_int)\n",
    "y_points = int((extent[3] - extent[2]) / grid_int)"
   ]
  },
  {
   "cell_type": "code",
   "execution_count": null,
   "metadata": {},
   "outputs": [],
   "source": [
    "#Create the grid. interval expressed by complex numbers\n",
    "grid_x, grid_y = np.mgrid[extent[0]:extent[1]:complex(x_points), extent[2]:extent[3]:complex(y_points)]"
   ]
  },
  {
   "cell_type": "code",
   "execution_count": null,
   "metadata": {},
   "outputs": [],
   "source": [
    "#Create numpy arrays of point co-ordinates and then values from input data\n",
    "points = np.array(list(zip(x, y)))\n",
    "values = z"
   ]
  },
  {
   "cell_type": "code",
   "execution_count": null,
   "metadata": {},
   "outputs": [],
   "source": [
    "#create kd index\n",
    "tree = spatial.KDTree(points.tolist())"
   ]
  },
  {
   "cell_type": "code",
   "execution_count": null,
   "metadata": {},
   "outputs": [],
   "source": [
    "keep=list(set(tree.query(list(zip(grid_x.ravel(), grid_y.ravel())))[1]))\n",
    "xk,yk,zk = x[keep],y[keep],z[keep]"
   ]
  },
  {
   "cell_type": "code",
   "execution_count": null,
   "metadata": {},
   "outputs": [],
   "source": [
    "inds = [i for i in range(x.size)]\n",
    "blinds = [i for i in inds if i not in keep]\n",
    "xb, yb, zb = x[blinds] , y[blinds] , z[blinds]"
   ]
  },
  {
   "cell_type": "code",
   "execution_count": null,
   "metadata": {},
   "outputs": [],
   "source": [
    "plt.scatter(xb, yb, color = 'r', s=40, label='blind test')\n",
    "plt.scatter(xk, yk, color='blue', s=20, label='keep')\n",
    "plt.legend()"
   ]
  },
  {
   "cell_type": "code",
   "execution_count": null,
   "metadata": {},
   "outputs": [],
   "source": [
    "keepdist=list(set(tree.query(list(zip(grid_x.ravel(), grid_y.ravel())))[0]))"
   ]
  },
  {
   "cell_type": "code",
   "execution_count": null,
   "metadata": {},
   "outputs": [],
   "source": [
    "#Create numpy arrays of point co-ordinates and then values from input data\n",
    "points = np.array(list(zip(xk, yk)))\n",
    "values = zk"
   ]
  },
  {
   "cell_type": "code",
   "execution_count": null,
   "metadata": {},
   "outputs": [],
   "source": [
    "#Perform interpolation of data in to the specified grid using scipy\n",
    "gridded = griddata(points, values, (grid_x, grid_y), method='cubic')"
   ]
  },
  {
   "cell_type": "code",
   "execution_count": null,
   "metadata": {},
   "outputs": [],
   "source": [
    "plt.figure(figsize=(20,10))\n",
    "plt.imshow(gridded.T, origin='lower', extent=extent, cmap='jet')\n",
    "plt.colorbar()\n",
    "\n",
    "\n",
    "plt.scatter(xk, yk, s=10, c='k', label = 'Keep')\n",
    "plt.scatter(xb, yb, s=10, c = 'r', label='Blind Test')\n",
    "plt.legend()"
   ]
  },
  {
   "cell_type": "markdown",
   "metadata": {},
   "source": [
    "### KD Residuals"
   ]
  },
  {
   "cell_type": "code",
   "execution_count": null,
   "metadata": {
    "scrolled": true
   },
   "outputs": [],
   "source": [
    "gridded.shape"
   ]
  },
  {
   "cell_type": "code",
   "execution_count": null,
   "metadata": {},
   "outputs": [],
   "source": [
    "# The inline, crossline locations you just provided. Also Grid extent, but as indices given by grid.shape\n",
    "corners_ix = np.array([[0,  0],\n",
    "                       [0, 29],\n",
    "                       [15, 0]])"
   ]
  },
  {
   "cell_type": "code",
   "execution_count": null,
   "metadata": {},
   "outputs": [],
   "source": [
    "transform = bruges.transform.CoordTransform(corners_ix, corners_xy)"
   ]
  },
  {
   "cell_type": "code",
   "execution_count": null,
   "metadata": {},
   "outputs": [],
   "source": [
    "#Re-extract residuals\n",
    "kdXcor, kdYcor = get_top_coords(xk, yk)"
   ]
  },
  {
   "cell_type": "code",
   "execution_count": null,
   "metadata": {},
   "outputs": [],
   "source": [
    "#Extract the value of the grid at the well top locations\n",
    "kdGridPoint = gridded[(kdXcor, kdYcor)]\n",
    "kdResiduals = zk - kdGridPoint"
   ]
  },
  {
   "cell_type": "code",
   "execution_count": null,
   "metadata": {},
   "outputs": [],
   "source": [
    "kd_dict = {'x' : xk,\n",
    "          'y' : yk,\n",
    "          'z' : zk,\n",
    "          'zkd' : kdGridPoint,\n",
    "          'kdResidual' : kdResiduals} "
   ]
  },
  {
   "cell_type": "code",
   "execution_count": null,
   "metadata": {},
   "outputs": [],
   "source": [
    "kd_df = pd.DataFrame(data=kd_dict)"
   ]
  },
  {
   "cell_type": "code",
   "execution_count": null,
   "metadata": {
    "scrolled": true
   },
   "outputs": [],
   "source": [
    "#Update histogram\n",
    "kd_res_list = kdResiduals.tolist()\n",
    "rng3 = np.nanmin(kd_res_list), np.nanmax(kd_res_list)\n",
    "n, bins, _ = plt.hist(kd_res_list, bins='auto',  range=rng3)"
   ]
  },
  {
   "cell_type": "code",
   "execution_count": null,
   "metadata": {},
   "outputs": [],
   "source": [
    "bins = (bins[1:] + bins[:-1]) / 2"
   ]
  },
  {
   "cell_type": "code",
   "execution_count": null,
   "metadata": {},
   "outputs": [],
   "source": [
    "plt.bar(bins, n, width=1, color='g')"
   ]
  },
  {
   "cell_type": "code",
   "execution_count": null,
   "metadata": {},
   "outputs": [],
   "source": [
    "#Blind Test Residuals\n",
    "BkdXcor, BkdYcor = get_top_coords(xb, yb)"
   ]
  },
  {
   "cell_type": "code",
   "execution_count": null,
   "metadata": {},
   "outputs": [],
   "source": [
    "#Extract the value of the grid at the well top locations\n",
    "BkdGridPoint = gridded[(BkdXcor, BkdYcor)]\n",
    "BkdResiduals = zb - BkdGridPoint"
   ]
  },
  {
   "cell_type": "code",
   "execution_count": null,
   "metadata": {
    "scrolled": false
   },
   "outputs": [],
   "source": [
    "#Update histogram\n",
    "Bkd_res_list = BkdResiduals.tolist()\n",
    "rng4 = np.nanmin(Bkd_res_list), np.nanmax(Bkd_res_list)\n",
    "n, bins, _ = plt.hist(Bkd_res_list, bins='auto',  range=rng4)"
   ]
  },
  {
   "cell_type": "code",
   "execution_count": null,
   "metadata": {},
   "outputs": [],
   "source": [
    "bins = (bins[1:] + bins[:-1]) / 2"
   ]
  },
  {
   "cell_type": "code",
   "execution_count": null,
   "metadata": {},
   "outputs": [],
   "source": [
    "plt.bar(bins, n, width=1, color='g')"
   ]
  }
 ],
 "metadata": {
  "kernelspec": {
   "display_name": "geocomp2",
   "language": "python",
   "name": "geocomp2"
  },
  "language_info": {
   "codemirror_mode": {
    "name": "ipython",
    "version": 3
   },
   "file_extension": ".py",
   "mimetype": "text/x-python",
   "name": "python",
   "nbconvert_exporter": "python",
   "pygments_lexer": "ipython3",
   "version": "3.6.6"
  }
 },
 "nbformat": 4,
 "nbformat_minor": 2
}
